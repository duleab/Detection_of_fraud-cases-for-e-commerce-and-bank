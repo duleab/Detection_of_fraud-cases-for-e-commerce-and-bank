{
 "cells": [
  {
   "cell_type": "markdown",
   "metadata": {},
   "source": [
    "# Fraud Detection - Feature Engineering\n",
    "\n",
    "This notebook focuses on creating meaningful features from raw data to improve fraud detection model performance.\n",
    "\n",
    "## Objectives:\n",
    "1. Create time-based features from timestamps\n",
    "2. Map IP addresses to countries for geolocation analysis\n",
    "3. Engineer transaction pattern features\n",
    "4. Create user behavior and device pattern features\n",
    "5. Handle categorical variables encoding\n",
    "6. Prepare data for machine learning models"
   ]
  },
  {
   "cell_type": "code",
   "execution_count": 1,
   "metadata": {},
   "outputs": [],
   "source": [
    "# Import necessary libraries\n",
    "import pandas as pd\n",
    "import numpy as np\n",
    "import matplotlib.pyplot as plt\n",
    "import seaborn as sns\n",
    "from datetime import datetime, timedelta\n",
    "import ipaddress\n",
    "from sklearn.preprocessing import StandardScaler, LabelEncoder, OneHotEncoder\n",
    "from sklearn.model_selection import train_test_split\n",
    "import warnings\n",
    "import pickle\n",
    "\n",
    "warnings.filterwarnings('ignore')\n",
    "np.random.seed(42)"
   ]
  },
  {
   "cell_type": "markdown",
   "metadata": {},
   "source": [
    "## 1. Load Data and Previous Insights"
   ]
  },
  {
   "cell_type": "code",
   "execution_count": 2,
   "metadata": {},
   "outputs": [
    {
     "name": "stdout",
     "output_type": "stream",
     "text": [
      "EDA insights loaded successfully\n",
      "Fraud data shape: (151112, 11)\n",
      "Credit card data shape: (284807, 31)\n",
      "IP country data shape: (138846, 3)\n"
     ]
    }
   ],
   "source": [
    "# Load datasets\n",
    "fraud_data = pd.read_csv('../Data/Fraud_Data.csv')\n",
    "ip_country = pd.read_csv('../Data/IpAddress_to_Country.csv')\n",
    "creditcard_data = pd.read_csv('../Data/creditcard.csv')\n",
    "\n",
    "# Load EDA insights\n",
    "try:\n",
    "    with open('../results/eda_insights.pkl', 'rb') as f:\n",
    "        eda_insights = pickle.load(f)\n",
    "    print(\"EDA insights loaded successfully\")\n",
    "except FileNotFoundError:\n",
    "    print(\"EDA insights not found. Please run 01_data_exploration.ipynb first.\")\n",
    "    eda_insights = {}\n",
    "\n",
    "print(f\"Fraud data shape: {fraud_data.shape}\")\n",
    "print(f\"Credit card data shape: {creditcard_data.shape}\")\n",
    "print(f\"IP country data shape: {ip_country.shape}\")"
   ]
  },
  {
   "cell_type": "markdown",
   "metadata": {},
   "source": [
    "## 2. Fraud Data Feature Engineering"
   ]
  },
  {
   "cell_type": "code",
   "execution_count": 3,
   "metadata": {},
   "outputs": [
    {
     "name": "stdout",
     "output_type": "stream",
     "text": [
      "Timestamp conversion completed\n"
     ]
    }
   ],
   "source": [
    "# Create a copy for feature engineering\n",
    "fraud_features = fraud_data.copy()\n",
    "\n",
    "# Convert timestamp columns to datetime\n",
    "fraud_features['signup_time'] = pd.to_datetime(fraud_features['signup_time'])\n",
    "fraud_features['purchase_time'] = pd.to_datetime(fraud_features['purchase_time'])\n",
    "\n",
    "print(\"Timestamp conversion completed\")"
   ]
  },
  {
   "cell_type": "code",
   "execution_count": 4,
   "metadata": {},
   "outputs": [
    {
     "name": "stdout",
     "output_type": "stream",
     "text": [
      "Time-based features created\n"
     ]
    }
   ],
   "source": [
    "# 2.1 Time-based Features\n",
    "\n",
    "# Time since signup (in hours)\n",
    "fraud_features['time_since_signup'] = (fraud_features['purchase_time'] - fraud_features['signup_time']).dt.total_seconds() / 3600\n",
    "\n",
    "# Purchase time features\n",
    "fraud_features['purchase_hour'] = fraud_features['purchase_time'].dt.hour\n",
    "fraud_features['purchase_day_of_week'] = fraud_features['purchase_time'].dt.dayofweek\n",
    "fraud_features['purchase_month'] = fraud_features['purchase_time'].dt.month\n",
    "fraud_features['purchase_day_of_month'] = fraud_features['purchase_time'].dt.day\n",
    "\n",
    "# Signup time features\n",
    "fraud_features['signup_hour'] = fraud_features['signup_time'].dt.hour\n",
    "fraud_features['signup_day_of_week'] = fraud_features['signup_time'].dt.dayofweek\n",
    "\n",
    "# Time-based patterns\n",
    "fraud_features['is_weekend_purchase'] = fraud_features['purchase_day_of_week'].isin([5, 6]).astype(int)\n",
    "fraud_features['is_night_purchase'] = fraud_features['purchase_hour'].isin([22, 23, 0, 1, 2, 3, 4, 5]).astype(int)\n",
    "fraud_features['is_business_hours'] = fraud_features['purchase_hour'].isin(range(9, 18)).astype(int)\n",
    "\n",
    "# Quick purchase (purchased within 1 hour of signup)\n",
    "fraud_features['quick_purchase'] = (fraud_features['time_since_signup'] <= 1).astype(int)\n",
    "\n",
    "print(\"Time-based features created\")"
   ]
  },
  {
   "cell_type": "code",
   "execution_count": 5,
   "metadata": {},
   "outputs": [
    {
     "name": "stdout",
     "output_type": "stream",
     "text": [
      "Mapping IP addresses to countries...\n",
      "Country mapping completed. Found 182 unique countries\n"
     ]
    }
   ],
   "source": [
    "# 2.2 IP Address to Country Mapping\n",
    "\n",
    "def ip_to_int(ip_str):\n",
    "    \"\"\"Convert IP address string to integer\"\"\"\n",
    "    try:\n",
    "        return int(ipaddress.IPv4Address(ip_str))\n",
    "    except:\n",
    "        return None\n",
    "\n",
    "def map_ip_to_country(ip_int, ip_country_df):\n",
    "    \"\"\"Map IP integer to country using IP ranges\"\"\"\n",
    "    if pd.isna(ip_int):\n",
    "        return 'Unknown'\n",
    "    \n",
    "    # Find the country for this IP\n",
    "    mask = (ip_country_df['lower_bound_ip_address'] <= ip_int) & (ip_int <= ip_country_df['upper_bound_ip_address'])\n",
    "    result = ip_country_df[mask]\n",
    "    \n",
    "    if len(result) > 0:\n",
    "        return result.iloc[0]['country']\n",
    "    else:\n",
    "        return 'Unknown'\n",
    "\n",
    "# Convert IP addresses to integers (assuming they're already in numeric format)\n",
    "fraud_features['ip_address_int'] = fraud_features['ip_address']\n",
    "\n",
    "# Map to countries (this might take a while for large datasets)\n",
    "print(\"Mapping IP addresses to countries...\")\n",
    "fraud_features['country'] = fraud_features['ip_address_int'].apply(\n",
    "    lambda x: map_ip_to_country(x, ip_country)\n",
    ")\n",
    "\n",
    "print(f\"Country mapping completed. Found {fraud_features['country'].nunique()} unique countries\")"
   ]
  },
  {
   "cell_type": "code",
   "execution_count": 6,
   "metadata": {},
   "outputs": [
    {
     "name": "stdout",
     "output_type": "stream",
     "text": [
      "User and device pattern features created\n"
     ]
    }
   ],
   "source": [
    "# 2.3 User and Device Pattern Features\n",
    "\n",
    "# Age groups\n",
    "fraud_features['age_group'] = pd.cut(fraud_features['age'], \n",
    "                                    bins=[0, 25, 35, 45, 55, 100], \n",
    "                                    labels=['18-25', '26-35', '36-45', '46-55', '55+'])\n",
    "\n",
    "# Purchase value categories\n",
    "fraud_features['purchase_value_category'] = pd.cut(fraud_features['purchase_value'],\n",
    "                                                  bins=[0, 20, 50, 100, 500, float('inf')],\n",
    "                                                  labels=['Very Low', 'Low', 'Medium', 'High', 'Very High'])\n",
    "\n",
    "# Device and browser risk scores (based on fraud rates)\n",
    "device_fraud_rate = fraud_features.groupby('device_id')['class'].mean()\n",
    "browser_fraud_rate = fraud_features.groupby('browser')['class'].mean()\n",
    "source_fraud_rate = fraud_features.groupby('source')['class'].mean()\n",
    "\n",
    "fraud_features['device_risk_score'] = fraud_features['device_id'].map(device_fraud_rate)\n",
    "fraud_features['browser_risk_score'] = fraud_features['browser'].map(browser_fraud_rate)\n",
    "fraud_features['source_risk_score'] = fraud_features['source'].map(source_fraud_rate)\n",
    "\n",
    "print(\"User and device pattern features created\")"
   ]
  },
  {
   "cell_type": "code",
   "execution_count": 7,
   "metadata": {},
   "outputs": [
    {
     "name": "stdout",
     "output_type": "stream",
     "text": [
      "Transaction velocity features created\n"
     ]
    }
   ],
   "source": [
    "# 2.4 Transaction Velocity Features\n",
    "\n",
    "# Sort by user and time for velocity calculations\n",
    "fraud_features_sorted = fraud_features.sort_values(['user_id', 'purchase_time'])\n",
    "\n",
    "# Count of transactions per user\n",
    "user_transaction_count = fraud_features_sorted.groupby('user_id').size()\n",
    "fraud_features['user_transaction_count'] = fraud_features['user_id'].map(user_transaction_count)\n",
    "\n",
    "# Average purchase value per user\n",
    "user_avg_purchase = fraud_features_sorted.groupby('user_id')['purchase_value'].mean()\n",
    "fraud_features['user_avg_purchase_value'] = fraud_features['user_id'].map(user_avg_purchase)\n",
    "\n",
    "# Deviation from user's average purchase\n",
    "fraud_features['purchase_deviation_from_avg'] = (\n",
    "    fraud_features['purchase_value'] - fraud_features['user_avg_purchase_value']\n",
    ") / fraud_features['user_avg_purchase_value']\n",
    "\n",
    "print(\"Transaction velocity features created\")"
   ]
  },
  {
   "cell_type": "markdown",
   "metadata": {},
   "source": [
    "## 3. Credit Card Data Feature Engineering"
   ]
  },
  {
   "cell_type": "code",
   "execution_count": 8,
   "metadata": {},
   "outputs": [
    {
     "name": "stdout",
     "output_type": "stream",
     "text": [
      "Credit card time-based features created\n"
     ]
    }
   ],
   "source": [
    "# Create a copy for feature engineering\n",
    "cc_features = creditcard_data.copy()\n",
    "\n",
    "# 3.1 Time-based Features\n",
    "# Convert time to hours and create time-based features\n",
    "cc_features['time_hours'] = cc_features['Time'] / 3600\n",
    "cc_features['time_days'] = cc_features['Time'] / (3600 * 24)\n",
    "\n",
    "# Hour of day (assuming Time=0 is midnight)\n",
    "cc_features['hour_of_day'] = (cc_features['Time'] / 3600) % 24\n",
    "cc_features['hour_of_day'] = cc_features['hour_of_day'].astype(int)\n",
    "\n",
    "# Day of dataset (which day since start)\n",
    "cc_features['day_of_dataset'] = (cc_features['Time'] / (3600 * 24)).astype(int)\n",
    "\n",
    "# Time-based patterns\n",
    "cc_features['is_night_transaction'] = cc_features['hour_of_day'].isin([22, 23, 0, 1, 2, 3, 4, 5]).astype(int)\n",
    "cc_features['is_business_hours'] = cc_features['hour_of_day'].isin(range(9, 18)).astype(int)\n",
    "cc_features['is_weekend'] = (cc_features['day_of_dataset'] % 7).isin([5, 6]).astype(int)\n",
    "\n",
    "print(\"Credit card time-based features created\")"
   ]
  },
  {
   "cell_type": "code",
   "execution_count": 9,
   "metadata": {},
   "outputs": [
    {
     "name": "stdout",
     "output_type": "stream",
     "text": [
      "Credit card amount-based features created\n"
     ]
    }
   ],
   "source": [
    "# 3.2 Amount-based Features\n",
    "\n",
    "# Log transformation of amount (to handle skewness)\n",
    "cc_features['log_amount'] = np.log1p(cc_features['Amount'])\n",
    "\n",
    "# Amount categories\n",
    "cc_features['amount_category'] = pd.cut(cc_features['Amount'],\n",
    "                                       bins=[0, 10, 50, 100, 500, float('inf')],\n",
    "                                       labels=['Very Low', 'Low', 'Medium', 'High', 'Very High'])\n",
    "\n",
    "# Z-score of amount (standardized)\n",
    "cc_features['amount_zscore'] = (cc_features['Amount'] - cc_features['Amount'].mean()) / cc_features['Amount'].std()\n",
    "\n",
    "# High amount flag (top 5% of transactions)\n",
    "amount_95th = cc_features['Amount'].quantile(0.95)\n",
    "cc_features['high_amount_flag'] = (cc_features['Amount'] > amount_95th).astype(int)\n",
    "\n",
    "print(\"Credit card amount-based features created\")"
   ]
  },
  {
   "cell_type": "code",
   "execution_count": 10,
   "metadata": {},
   "outputs": [
    {
     "name": "stdout",
     "output_type": "stream",
     "text": [
      "Credit card PCA feature engineering completed\n"
     ]
    }
   ],
   "source": [
    "# 3.3 PCA Feature Engineering\n",
    "\n",
    "# Get V features\n",
    "v_features = [col for col in cc_features.columns if col.startswith('V')]\n",
    "\n",
    "# Create feature combinations (top correlated features)\n",
    "# Based on EDA insights, create interactions between highly correlated V features\n",
    "if 'top_correlated_features' in eda_insights:\n",
    "    top_features = list(eda_insights['top_correlated_features'].keys())[:5]\n",
    "    \n",
    "    # Create interaction features\n",
    "    for i, feat1 in enumerate(top_features):\n",
    "        for feat2 in top_features[i+1:]:\n",
    "            cc_features[f'{feat1}_{feat2}_interaction'] = cc_features[feat1] * cc_features[feat2]\n",
    "\n",
    "# Statistical features from V components\n",
    "cc_features['v_features_mean'] = cc_features[v_features].mean(axis=1)\n",
    "cc_features['v_features_std'] = cc_features[v_features].std(axis=1)\n",
    "cc_features['v_features_max'] = cc_features[v_features].max(axis=1)\n",
    "cc_features['v_features_min'] = cc_features[v_features].min(axis=1)\n",
    "cc_features['v_features_range'] = cc_features['v_features_max'] - cc_features['v_features_min']\n",
    "\n",
    "print(\"Credit card PCA feature engineering completed\")"
   ]
  },
  {
   "cell_type": "markdown",
   "metadata": {},
   "source": [
    "## 4. Categorical Encoding"
   ]
  },
  {
   "cell_type": "code",
   "execution_count": 11,
   "metadata": {},
   "outputs": [
    {
     "name": "stdout",
     "output_type": "stream",
     "text": [
      "Fraud data shape before encoding: (151112, 32)\n",
      "Fraud data shape after encoding: (151112, 230)\n"
     ]
    }
   ],
   "source": [
    "# 4.1 Fraud Data Categorical Encoding with Category Handling\n",
    "\n",
    "categorical_cols = ['source', 'browser', 'sex', 'age_group', 'purchase_value_category', 'country']\n",
    "\n",
    "# Make sure fraud_features is defined\n",
    "try:\n",
    "    fraud_features\n",
    "except NameError:\n",
    "    fraud_features = fraud_data.copy()\n",
    "\n",
    "for col in categorical_cols:\n",
    "    if col in fraud_features.columns:\n",
    "        if pd.api.types.is_categorical_dtype(fraud_features[col]):\n",
    "            # Add 'Unknown' to categories if not present\n",
    "            if 'Unknown' not in fraud_features[col].cat.categories:\n",
    "                fraud_features[col] = fraud_features[col].cat.add_categories('Unknown')\n",
    "        # Fill missing values\n",
    "        fraud_features[col] = fraud_features[col].fillna('Unknown')\n",
    "    else:\n",
    "        print(f\"⚠️ Warning: Column '{col}' not found in fraud_features\")\n",
    "\n",
    "# One-hot encode existing categorical columns\n",
    "fraud_encoded = pd.get_dummies(\n",
    "    fraud_features,\n",
    "    columns=[col for col in categorical_cols if col in fraud_features.columns],\n",
    "    prefix=categorical_cols\n",
    ")\n",
    "\n",
    "print(f\"Fraud data shape before encoding: {fraud_features.shape}\")\n",
    "print(f\"Fraud data shape after encoding: {fraud_encoded.shape}\")\n"
   ]
  },
  {
   "cell_type": "code",
   "execution_count": 12,
   "metadata": {},
   "outputs": [
    {
     "name": "stdout",
     "output_type": "stream",
     "text": [
      "Credit card data shape after encoding: (284807, 61)\n"
     ]
    }
   ],
   "source": [
    "# 4.2 Credit Card Data Categorical Encoding\n",
    "\n",
    "# One-hot encode categorical variables\n",
    "cc_categorical_cols = ['amount_category']\n",
    "\n",
    "# Create dummy variables\n",
    "cc_encoded = pd.get_dummies(cc_features, columns=cc_categorical_cols, prefix=cc_categorical_cols)\n",
    "\n",
    "print(f\"Credit card data shape after encoding: {cc_encoded.shape}\")"
   ]
  },
  {
   "cell_type": "markdown",
   "metadata": {},
   "source": [
    "## 5. Feature Selection and Preparation"
   ]
  },
  {
   "cell_type": "code",
   "execution_count": 13,
   "metadata": {},
   "outputs": [
    {
     "name": "stdout",
     "output_type": "stream",
     "text": [
      "Fraud data - Features shape: (151112, 223), Target shape: (151112,)\n"
     ]
    }
   ],
   "source": [
    "# 5.1 Fraud Data Feature Selection\n",
    "\n",
    "# Remove original timestamp and identifier columns\n",
    "fraud_drop_cols = ['user_id', 'signup_time', 'purchase_time', 'device_id', 'ip_address', 'ip_address_int']\n",
    "fraud_ml_ready = fraud_encoded.drop(columns=fraud_drop_cols, errors='ignore')\n",
    "\n",
    "# Separate features and target\n",
    "X_fraud = fraud_ml_ready.drop('class', axis=1)\n",
    "y_fraud = fraud_ml_ready['class']\n",
    "\n",
    "print(f\"Fraud data - Features shape: {X_fraud.shape}, Target shape: {y_fraud.shape}\")"
   ]
  },
  {
   "cell_type": "code",
   "execution_count": 14,
   "metadata": {},
   "outputs": [
    {
     "name": "stdout",
     "output_type": "stream",
     "text": [
      "Credit card data - Features shape: (284807, 59), Target shape: (284807,)\n"
     ]
    }
   ],
   "source": [
    "# 5.2 Credit Card Data Feature Selection\n",
    "\n",
    "# Remove original Time column (we have engineered time features)\n",
    "cc_ml_ready = cc_encoded.drop(columns=['Time'], errors='ignore')\n",
    "\n",
    "# Separate features and target\n",
    "X_creditcard = cc_ml_ready.drop('Class', axis=1)\n",
    "y_creditcard = cc_ml_ready['Class']\n",
    "\n",
    "print(f\"Credit card data - Features shape: {X_creditcard.shape}, Target shape: {y_creditcard.shape}\")"
   ]
  },
  {
   "cell_type": "markdown",
   "metadata": {},
   "source": [
    "## 6. Data Scaling and Train-Test Split"
   ]
  },
  {
   "cell_type": "code",
   "execution_count": 15,
   "metadata": {},
   "outputs": [
    {
     "name": "stdout",
     "output_type": "stream",
     "text": [
      "Missing values handled\n"
     ]
    }
   ],
   "source": [
    "# 6.1 Handle missing values\n",
    "\n",
    "# Fill missing values with median for numerical columns\n",
    "X_fraud = X_fraud.fillna(X_fraud.median())\n",
    "X_creditcard = X_creditcard.fillna(X_creditcard.median())\n",
    "\n",
    "print(\"Missing values handled\")"
   ]
  },
  {
   "cell_type": "code",
   "execution_count": 16,
   "metadata": {},
   "outputs": [
    {
     "name": "stdout",
     "output_type": "stream",
     "text": [
      "Train-test split completed:\n",
      "Fraud - Train: (120889, 223), Test: (30223, 223)\n",
      "Credit Card - Train: (227845, 59), Test: (56962, 59)\n"
     ]
    }
   ],
   "source": [
    "# 6.2 Train-Test Split\n",
    "\n",
    "# Fraud data split\n",
    "X_fraud_train, X_fraud_test, y_fraud_train, y_fraud_test = train_test_split(\n",
    "    X_fraud, y_fraud, test_size=0.2, random_state=42, stratify=y_fraud\n",
    ")\n",
    "\n",
    "# Credit card data split\n",
    "X_cc_train, X_cc_test, y_cc_train, y_cc_test = train_test_split(\n",
    "    X_creditcard, y_creditcard, test_size=0.2, random_state=42, stratify=y_creditcard\n",
    ")\n",
    "\n",
    "print(\"Train-test split completed:\")\n",
    "print(f\"Fraud - Train: {X_fraud_train.shape}, Test: {X_fraud_test.shape}\")\n",
    "print(f\"Credit Card - Train: {X_cc_train.shape}, Test: {X_cc_test.shape}\")"
   ]
  },
  {
   "cell_type": "code",
   "execution_count": 17,
   "metadata": {},
   "outputs": [
    {
     "name": "stdout",
     "output_type": "stream",
     "text": [
      "Feature scaling completed\n"
     ]
    }
   ],
   "source": [
    "# 6.3 Feature Scaling\n",
    "\n",
    "# Initialize scalers\n",
    "scaler_fraud = StandardScaler()\n",
    "scaler_cc = StandardScaler()\n",
    "\n",
    "# Fit and transform training data\n",
    "X_fraud_train_scaled = scaler_fraud.fit_transform(X_fraud_train)\n",
    "X_fraud_test_scaled = scaler_fraud.transform(X_fraud_test)\n",
    "\n",
    "X_cc_train_scaled = scaler_cc.fit_transform(X_cc_train)\n",
    "X_cc_test_scaled = scaler_cc.transform(X_cc_test)\n",
    "\n",
    "# Convert back to DataFrames for easier handling\n",
    "X_fraud_train_scaled = pd.DataFrame(X_fraud_train_scaled, columns=X_fraud_train.columns, index=X_fraud_train.index)\n",
    "X_fraud_test_scaled = pd.DataFrame(X_fraud_test_scaled, columns=X_fraud_test.columns, index=X_fraud_test.index)\n",
    "\n",
    "X_cc_train_scaled = pd.DataFrame(X_cc_train_scaled, columns=X_cc_train.columns, index=X_cc_train.index)\n",
    "X_cc_test_scaled = pd.DataFrame(X_cc_test_scaled, columns=X_cc_test.columns, index=X_cc_test.index)\n",
    "\n",
    "print(\"Feature scaling completed\")"
   ]
  },
  {
   "cell_type": "markdown",
   "metadata": {},
   "source": [
    "## 7. Feature Importance Analysis"
   ]
  },
  {
   "cell_type": "code",
   "execution_count": 18,
   "metadata": {},
   "outputs": [
    {
     "name": "stdout",
     "output_type": "stream",
     "text": [
      "Top 15 features correlated with fraud (E-commerce):\n",
      "device_risk_score        0.932808\n",
      "quick_purchase           0.715813\n",
      "purchase_month           0.312849\n",
      "time_since_signup        0.259748\n",
      "purchase_day_of_month    0.161330\n",
      "source_risk_score        0.022628\n",
      "source_Direct            0.022036\n",
      "country_Luxembourg       0.020186\n",
      "country_Ireland          0.019394\n",
      "purchase_day_of_week     0.018644\n",
      "country_Ecuador          0.017181\n",
      "country_New Zealand      0.016553\n",
      "browser_risk_score       0.016138\n",
      "country_Namibia          0.015344\n",
      "country_Saudi Arabia     0.014930\n",
      "dtype: float64\n",
      "\n",
      "Top 15 features correlated with fraud (Credit Card):\n",
      "V14_V12_interaction    0.581662\n",
      "V12_V10_interaction    0.550084\n",
      "V14_V16_interaction    0.543644\n",
      "V17_V12_interaction    0.542743\n",
      "V17_V16_interaction    0.542241\n",
      "V17_V14_interaction    0.539683\n",
      "V12_V16_interaction    0.534268\n",
      "V17_V10_interaction    0.531597\n",
      "V14_V10_interaction    0.524067\n",
      "V10_V16_interaction    0.516727\n",
      "V17                    0.321937\n",
      "v_features_mean        0.315355\n",
      "V14                    0.301054\n",
      "V12                    0.259989\n",
      "v_features_std         0.249056\n",
      "dtype: float64\n"
     ]
    }
   ],
   "source": [
    "# 7.1 Correlation Analysis\n",
    "\n",
    "# Fraud data correlation with target\n",
    "fraud_correlations = X_fraud_train.corrwith(y_fraud_train).abs().sort_values(ascending=False)\n",
    "\n",
    "print(\"Top 15 features correlated with fraud (E-commerce):\")\n",
    "print(fraud_correlations.head(15))\n",
    "\n",
    "# Credit card data correlation with target\n",
    "cc_correlations = X_cc_train.corrwith(y_cc_train).abs().sort_values(ascending=False)\n",
    "\n",
    "print(\"\\nTop 15 features correlated with fraud (Credit Card):\")\n",
    "print(cc_correlations.head(15))"
   ]
  },
  {
   "cell_type": "code",
   "execution_count": 19,
   "metadata": {},
   "outputs": [
    {
     "data": {
      "image/png": "[encoded data removed]",
      "text/plain": [
       "<Figure size 2000x800 with 2 Axes>"
      ]
     },
     "metadata": {},
     "output_type": "display_data"
    }
   ],
   "source": [
    "# 7.2 Visualize Feature Correlations\n",
    "\n",
    "fig, axes = plt.subplots(1, 2, figsize=(20, 8))\n",
    "\n",
    "# Fraud data top correlations\n",
    "fraud_correlations.head(15).plot(kind='barh', ax=axes[0], color='coral')\n",
    "axes[0].set_title('Top 15 Features Correlated with E-commerce Fraud', fontweight='bold', fontsize=14)\n",
    "axes[0].set_xlabel('Absolute Correlation')\n",
    "\n",
    "# Credit card data top correlations\n",
    "cc_correlations.head(15).plot(kind='barh', ax=axes[1], color='lightblue')\n",
    "axes[1].set_title('Top 15 Features Correlated with Credit Card Fraud', fontweight='bold', fontsize=14)\n",
    "axes[1].set_xlabel('Absolute Correlation')\n",
    "\n",
    "plt.tight_layout()\n",
    "plt.show()"
   ]
  },
  {
   "cell_type": "markdown",
   "metadata": {},
   "source": [
    "## 8. Save Processed Data"
   ]
  },
  {
   "cell_type": "code",
   "execution_count": 20,
   "metadata": {},
   "outputs": [
    {
     "name": "stdout",
     "output_type": "stream",
     "text": [
      "All processed data and feature information saved to results/ directory\n",
      "Fraud dataset: 223 features\n",
      "Credit card dataset: 59 features\n"
     ]
    }
   ],
   "source": [
    "# Save all processed datasets and scalers\n",
    "\n",
    "# Create results directory if it doesn't exist\n",
    "import os\n",
    "os.makedirs('../results', exist_ok=True)\n",
    "\n",
    "# Save fraud data\n",
    "X_fraud_train_scaled.to_csv('../results/X_fraud_train_scaled.csv', index=False)\n",
    "X_fraud_test_scaled.to_csv('../results/X_fraud_test_scaled.csv', index=False)\n",
    "y_fraud_train.to_csv('../results/y_fraud_train.csv', index=False)\n",
    "y_fraud_test.to_csv('../results/y_fraud_test.csv', index=False)\n",
    "\n",
    "# Save credit card data\n",
    "X_cc_train_scaled.to_csv('../results/X_cc_train_scaled.csv', index=False)\n",
    "X_cc_test_scaled.to_csv('../results/X_cc_test_scaled.csv', index=False)\n",
    "y_cc_train.to_csv('../results/y_cc_train.csv', index=False)\n",
    "y_cc_test.to_csv('../results/y_cc_test.csv', index=False)\n",
    "\n",
    "# Save scalers\n",
    "with open('../results/scaler_fraud.pkl', 'wb') as f:\n",
    "    pickle.dump(scaler_fraud, f)\n",
    "\n",
    "with open('../results/scaler_cc.pkl', 'wb') as f:\n",
    "    pickle.dump(scaler_cc, f)\n",
    "\n",
    "# Save feature names\n",
    "feature_info = {\n",
    "    'fraud_features': list(X_fraud_train.columns),\n",
    "    'cc_features': list(X_cc_train.columns),\n",
    "    'fraud_correlations': fraud_correlations.to_dict(),\n",
    "    'cc_correlations': cc_correlations.to_dict()\n",
    "}\n",
    "\n",
    "with open('../results/feature_info.pkl', 'wb') as f:\n",
    "    pickle.dump(feature_info, f)\n",
    "\n",
    "print(\"All processed data and feature information saved to results/ directory\")\n",
    "print(f\"Fraud dataset: {X_fraud_train_scaled.shape[1]} features\")\n",
    "print(f\"Credit card dataset: {X_cc_train_scaled.shape[1]} features\")"
   ]
  },
  {
   "cell_type": "markdown",
   "metadata": {},
   "source": [
    "## 9. Feature Engineering Summary\n",
    "\n",
    "### Created Features:\n",
    "\n",
    "#### E-commerce Fraud Data:\n",
    "1. **Time-based Features**: time_since_signup, purchase_hour, day_of_week, weekend/night flags\n",
    "2. **Geolocation Features**: IP to country mapping\n",
    "3. **User Behavior**: age_groups, purchase_value_categories, quick_purchase flag\n",
    "4. **Risk Scores**: device_risk_score, browser_risk_score, source_risk_score\n",
    "5. **Transaction Patterns**: user_transaction_count, deviation_from_average\n",
    "\n",
    "#### Credit Card Data:\n",
    "1. **Time-based Features**: hour_of_day, day_of_dataset, business_hours flags\n",
    "2. **Amount Features**: log_amount, amount_categories, z-scores, high_amount_flag\n",
    "3. **PCA Interactions**: feature combinations, statistical aggregations\n",
    "\n",
    "### Data Preparation:\n",
    "- Categorical encoding using one-hot encoding\n",
    "- Feature scaling using StandardScaler\n",
    "- Train-test split with stratification\n",
    "- Missing value imputation\n",
    "\n",
    "### Next Steps:\n",
    "- Model training and evaluation\n",
    "- Handling class imbalance\n",
    "- Model interpretation and explainability"
   ]
  },
  {
   "cell_type": "markdown",
   "metadata": {},
   "source": [
    "## 4. Fraud Data Analysis\n",
    "\n",
    "This section explores the e-commerce dataset (`Fraud_Data.csv`), analyzing numerical features (`purchase_value`, `age`) and categorical features (`source`, `browser`, `sex`). We visualize distributions and fraud rates to identify patterns."
   ]
  },
  {
   "cell_type": "code",
   "execution_count": null,
   "metadata": {},
   "outputs": [],
   "source": []
  },
  {
   "cell_type": "code",
   "execution_count": null,
   "metadata": {},
   "outputs": [],
   "source": []
  }
 ],
 "metadata": {
  "kernelspec": {
   "display_name": "Python 3 (ipykernel)",
   "language": "python",
   "name": "python3"
  },
  "language_info": {
   "codemirror_mode": {
    "name": "ipython",
    "version": 3
   },
   "file_extension": ".py",
   "mimetype": "text/x-python",
   "name": "python",
   "nbconvert_exporter": "python",
   "pygments_lexer": "ipython3",
   "version": "3.13.3"
  }
 },
 "nbformat": 4,
 "nbformat_minor": 4
}
